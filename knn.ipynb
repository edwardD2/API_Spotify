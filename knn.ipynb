{
  "nbformat": 4,
  "nbformat_minor": 0,
  "metadata": {
    "colab": {
      "name": "knn.ipynb",
      "provenance": [],
      "collapsed_sections": []
    },
    "kernelspec": {
      "name": "python3",
      "display_name": "Python 3"
    },
    "language_info": {
      "name": "python"
    }
  },
  "cells": [
    {
      "cell_type": "code",
      "execution_count": 341,
      "metadata": {
        "id": "z-fQk4WEaEaR"
      },
      "outputs": [],
      "source": [
        "# import libraries\n",
        "import pandas as pd\n",
        "import matplotlib.pyplot as plt\n",
        "import random\n",
        "import numpy as np\n",
        "from sklearn.metrics import confusion_matrix"
      ]
    },
    {
      "cell_type": "code",
      "source": [
        "# find the min and max values for each column\n",
        "def dataset_minmax(dataset):\n",
        "\tminmax = list()\n",
        "\tfor i in range(len(dataset[0])-1):\n",
        "\t\tcol_values = [row[i] for row in dataset]\n",
        "\t\tvalue_min = min(col_values)\n",
        "\t\tvalue_max = max(col_values)\n",
        "\t\tminmax.append([value_min, value_max])\n",
        "\treturn minmax\n",
        " \n",
        "# rescale dataset columns to the range 0-1\n",
        "def normalize_dataset(dataset, minmax):\n",
        "\tfor row in dataset:\n",
        "\t\tfor i in range(len(row)-1):\n",
        "\t\t\trow[i] = (row[i] - minmax[i][0]) / (minmax[i][1] - minmax[i][0])\n",
        "\n",
        "\n",
        "# calculate the Euclidean distance between two vectors\n",
        "def euclidean_distance(row1, row2):\n",
        "  distance = 0.0\n",
        "  for i in range(len(row1)-1):\n",
        "    distance += (row1[i] - row2[i])**2\n",
        "  return np.sqrt(distance)\n",
        "\n",
        "\n",
        "# locate the most similar neighbors\n",
        "def get_neighbors(train, test_row, num_neighbors):\n",
        "\tdistances = list()\n",
        "\tfor train_row in train:\n",
        "\t\tdist = euclidean_distance(test_row, train_row)\n",
        "\t\tdistances.append((train_row, dist))\n",
        "\tdistances.sort(key=lambda tup: tup[1])\n",
        "\tneighbors = list()\n",
        "\tfor i in range(num_neighbors):\n",
        "\t\tneighbors.append(distances[i][0])\n",
        "\treturn neighbors\n",
        " \n",
        "# make a prediction with neighbors\n",
        "def predict_classification(train, test_row, num_neighbors):\n",
        "\tneighbors = get_neighbors(train, test_row, num_neighbors)\n",
        "\toutput_values = [row[-1] for row in neighbors]\n",
        "\tprediction = max(set(output_values), key=output_values.count)\n",
        "\treturn prediction"
      ],
      "metadata": {
        "id": "cfljnXtVH9Hu"
      },
      "execution_count": 303,
      "outputs": []
    },
    {
      "cell_type": "code",
      "source": [
        "names = ['doggo', 'not edgy', 'i feel like', 'untitled', 'whatever simulation', 'never forget', 'b', '떡볶이']\n",
        "columns = ['energy', 'loudness', 'tempo', 'valence', 'danceability', 'playlist']\n",
        "\n",
        "tracks_all = pd.DataFrame(columns=columns)\n",
        "for name in names:\n",
        "  df = pd.read_csv(name+'.csv', index_col=0).iloc[:, 5:10]\n",
        "  if name=='떡볶이':\n",
        "    df['playlist'] = 'tteokbokki'\n",
        "  else:\n",
        "    df['playlist'] = name\n",
        "  tracks_all = tracks_all.append(df, ignore_index=True)\n",
        "\n",
        "# drop last track if total number of tracks not even\n",
        "if len(tracks_all)%2 != 0:\n",
        "  tracks_all = tracks_all.drop([len(tracks_all)-1])\n",
        "\n",
        "tracks_all"
      ],
      "metadata": {
        "colab": {
          "base_uri": "https://localhost:8080/",
          "height": 424
        },
        "id": "Tb6fBHu5bU-g",
        "outputId": "3bab9fbe-4d15-457d-a95e-b30c126cae78"
      },
      "execution_count": 317,
      "outputs": [
        {
          "output_type": "execute_result",
          "data": {
            "text/html": [
              "\n",
              "  <div id=\"df-8ea007c1-0ea7-4517-a0af-b80282102a6d\">\n",
              "    <div class=\"colab-df-container\">\n",
              "      <div>\n",
              "<style scoped>\n",
              "    .dataframe tbody tr th:only-of-type {\n",
              "        vertical-align: middle;\n",
              "    }\n",
              "\n",
              "    .dataframe tbody tr th {\n",
              "        vertical-align: top;\n",
              "    }\n",
              "\n",
              "    .dataframe thead th {\n",
              "        text-align: right;\n",
              "    }\n",
              "</style>\n",
              "<table border=\"1\" class=\"dataframe\">\n",
              "  <thead>\n",
              "    <tr style=\"text-align: right;\">\n",
              "      <th></th>\n",
              "      <th>energy</th>\n",
              "      <th>loudness</th>\n",
              "      <th>tempo</th>\n",
              "      <th>valence</th>\n",
              "      <th>danceability</th>\n",
              "      <th>playlist</th>\n",
              "    </tr>\n",
              "  </thead>\n",
              "  <tbody>\n",
              "    <tr>\n",
              "      <th>0</th>\n",
              "      <td>0.933</td>\n",
              "      <td>-3.476</td>\n",
              "      <td>170.130</td>\n",
              "      <td>0.708</td>\n",
              "      <td>0.501</td>\n",
              "      <td>doggo</td>\n",
              "    </tr>\n",
              "    <tr>\n",
              "      <th>1</th>\n",
              "      <td>0.934</td>\n",
              "      <td>-3.347</td>\n",
              "      <td>169.907</td>\n",
              "      <td>0.591</td>\n",
              "      <td>0.513</td>\n",
              "      <td>doggo</td>\n",
              "    </tr>\n",
              "    <tr>\n",
              "      <th>2</th>\n",
              "      <td>0.946</td>\n",
              "      <td>-4.134</td>\n",
              "      <td>145.004</td>\n",
              "      <td>0.621</td>\n",
              "      <td>0.600</td>\n",
              "      <td>doggo</td>\n",
              "    </tr>\n",
              "    <tr>\n",
              "      <th>3</th>\n",
              "      <td>0.913</td>\n",
              "      <td>-3.493</td>\n",
              "      <td>156.076</td>\n",
              "      <td>0.409</td>\n",
              "      <td>0.538</td>\n",
              "      <td>doggo</td>\n",
              "    </tr>\n",
              "    <tr>\n",
              "      <th>4</th>\n",
              "      <td>0.970</td>\n",
              "      <td>-2.512</td>\n",
              "      <td>170.190</td>\n",
              "      <td>0.431</td>\n",
              "      <td>0.425</td>\n",
              "      <td>doggo</td>\n",
              "    </tr>\n",
              "    <tr>\n",
              "      <th>...</th>\n",
              "      <td>...</td>\n",
              "      <td>...</td>\n",
              "      <td>...</td>\n",
              "      <td>...</td>\n",
              "      <td>...</td>\n",
              "      <td>...</td>\n",
              "    </tr>\n",
              "    <tr>\n",
              "      <th>917</th>\n",
              "      <td>0.772</td>\n",
              "      <td>-3.272</td>\n",
              "      <td>141.968</td>\n",
              "      <td>0.610</td>\n",
              "      <td>0.799</td>\n",
              "      <td>tteokbokki</td>\n",
              "    </tr>\n",
              "    <tr>\n",
              "      <th>918</th>\n",
              "      <td>0.851</td>\n",
              "      <td>-2.972</td>\n",
              "      <td>93.208</td>\n",
              "      <td>0.752</td>\n",
              "      <td>0.656</td>\n",
              "      <td>tteokbokki</td>\n",
              "    </tr>\n",
              "    <tr>\n",
              "      <th>919</th>\n",
              "      <td>0.732</td>\n",
              "      <td>-4.865</td>\n",
              "      <td>82.026</td>\n",
              "      <td>0.436</td>\n",
              "      <td>0.665</td>\n",
              "      <td>tteokbokki</td>\n",
              "    </tr>\n",
              "    <tr>\n",
              "      <th>920</th>\n",
              "      <td>0.907</td>\n",
              "      <td>-2.487</td>\n",
              "      <td>120.069</td>\n",
              "      <td>0.778</td>\n",
              "      <td>0.739</td>\n",
              "      <td>tteokbokki</td>\n",
              "    </tr>\n",
              "    <tr>\n",
              "      <th>921</th>\n",
              "      <td>0.875</td>\n",
              "      <td>-2.739</td>\n",
              "      <td>88.938</td>\n",
              "      <td>0.708</td>\n",
              "      <td>0.656</td>\n",
              "      <td>tteokbokki</td>\n",
              "    </tr>\n",
              "  </tbody>\n",
              "</table>\n",
              "<p>922 rows × 6 columns</p>\n",
              "</div>\n",
              "      <button class=\"colab-df-convert\" onclick=\"convertToInteractive('df-8ea007c1-0ea7-4517-a0af-b80282102a6d')\"\n",
              "              title=\"Convert this dataframe to an interactive table.\"\n",
              "              style=\"display:none;\">\n",
              "        \n",
              "  <svg xmlns=\"http://www.w3.org/2000/svg\" height=\"24px\"viewBox=\"0 0 24 24\"\n",
              "       width=\"24px\">\n",
              "    <path d=\"M0 0h24v24H0V0z\" fill=\"none\"/>\n",
              "    <path d=\"M18.56 5.44l.94 2.06.94-2.06 2.06-.94-2.06-.94-.94-2.06-.94 2.06-2.06.94zm-11 1L8.5 8.5l.94-2.06 2.06-.94-2.06-.94L8.5 2.5l-.94 2.06-2.06.94zm10 10l.94 2.06.94-2.06 2.06-.94-2.06-.94-.94-2.06-.94 2.06-2.06.94z\"/><path d=\"M17.41 7.96l-1.37-1.37c-.4-.4-.92-.59-1.43-.59-.52 0-1.04.2-1.43.59L10.3 9.45l-7.72 7.72c-.78.78-.78 2.05 0 2.83L4 21.41c.39.39.9.59 1.41.59.51 0 1.02-.2 1.41-.59l7.78-7.78 2.81-2.81c.8-.78.8-2.07 0-2.86zM5.41 20L4 18.59l7.72-7.72 1.47 1.35L5.41 20z\"/>\n",
              "  </svg>\n",
              "      </button>\n",
              "      \n",
              "  <style>\n",
              "    .colab-df-container {\n",
              "      display:flex;\n",
              "      flex-wrap:wrap;\n",
              "      gap: 12px;\n",
              "    }\n",
              "\n",
              "    .colab-df-convert {\n",
              "      background-color: #E8F0FE;\n",
              "      border: none;\n",
              "      border-radius: 50%;\n",
              "      cursor: pointer;\n",
              "      display: none;\n",
              "      fill: #1967D2;\n",
              "      height: 32px;\n",
              "      padding: 0 0 0 0;\n",
              "      width: 32px;\n",
              "    }\n",
              "\n",
              "    .colab-df-convert:hover {\n",
              "      background-color: #E2EBFA;\n",
              "      box-shadow: 0px 1px 2px rgba(60, 64, 67, 0.3), 0px 1px 3px 1px rgba(60, 64, 67, 0.15);\n",
              "      fill: #174EA6;\n",
              "    }\n",
              "\n",
              "    [theme=dark] .colab-df-convert {\n",
              "      background-color: #3B4455;\n",
              "      fill: #D2E3FC;\n",
              "    }\n",
              "\n",
              "    [theme=dark] .colab-df-convert:hover {\n",
              "      background-color: #434B5C;\n",
              "      box-shadow: 0px 1px 3px 1px rgba(0, 0, 0, 0.15);\n",
              "      filter: drop-shadow(0px 1px 2px rgba(0, 0, 0, 0.3));\n",
              "      fill: #FFFFFF;\n",
              "    }\n",
              "  </style>\n",
              "\n",
              "      <script>\n",
              "        const buttonEl =\n",
              "          document.querySelector('#df-8ea007c1-0ea7-4517-a0af-b80282102a6d button.colab-df-convert');\n",
              "        buttonEl.style.display =\n",
              "          google.colab.kernel.accessAllowed ? 'block' : 'none';\n",
              "\n",
              "        async function convertToInteractive(key) {\n",
              "          const element = document.querySelector('#df-8ea007c1-0ea7-4517-a0af-b80282102a6d');\n",
              "          const dataTable =\n",
              "            await google.colab.kernel.invokeFunction('convertToInteractive',\n",
              "                                                     [key], {});\n",
              "          if (!dataTable) return;\n",
              "\n",
              "          const docLinkHtml = 'Like what you see? Visit the ' +\n",
              "            '<a target=\"_blank\" href=https://colab.research.google.com/notebooks/data_table.ipynb>data table notebook</a>'\n",
              "            + ' to learn more about interactive tables.';\n",
              "          element.innerHTML = '';\n",
              "          dataTable['output_type'] = 'display_data';\n",
              "          await google.colab.output.renderOutput(dataTable, element);\n",
              "          const docLink = document.createElement('div');\n",
              "          docLink.innerHTML = docLinkHtml;\n",
              "          element.appendChild(docLink);\n",
              "        }\n",
              "      </script>\n",
              "    </div>\n",
              "  </div>\n",
              "  "
            ],
            "text/plain": [
              "     energy  loudness    tempo  valence  danceability    playlist\n",
              "0     0.933    -3.476  170.130    0.708         0.501       doggo\n",
              "1     0.934    -3.347  169.907    0.591         0.513       doggo\n",
              "2     0.946    -4.134  145.004    0.621         0.600       doggo\n",
              "3     0.913    -3.493  156.076    0.409         0.538       doggo\n",
              "4     0.970    -2.512  170.190    0.431         0.425       doggo\n",
              "..      ...       ...      ...      ...           ...         ...\n",
              "917   0.772    -3.272  141.968    0.610         0.799  tteokbokki\n",
              "918   0.851    -2.972   93.208    0.752         0.656  tteokbokki\n",
              "919   0.732    -4.865   82.026    0.436         0.665  tteokbokki\n",
              "920   0.907    -2.487  120.069    0.778         0.739  tteokbokki\n",
              "921   0.875    -2.739   88.938    0.708         0.656  tteokbokki\n",
              "\n",
              "[922 rows x 6 columns]"
            ]
          },
          "metadata": {},
          "execution_count": 317
        }
      ]
    },
    {
      "cell_type": "code",
      "source": [
        "# sample 50% observations as training data\n",
        "train = random.sample(range(0, len(tracks_all)), len(tracks_all)//2)\n",
        "ttrain = tracks_all.index.isin(train)\n",
        "\n",
        "tracks_train = tracks_all[ttrain]\n",
        "\n",
        "# rest 50% as test data\n",
        "tracks_test = tracks_all[~ttrain]"
      ],
      "metadata": {
        "id": "1a6hGl4Yky6J"
      },
      "execution_count": 342,
      "outputs": []
    },
    {
      "cell_type": "code",
      "source": [
        "# create response vectors and design matrices for training and test set\n",
        "YTrain = tracks_train['playlist'].tolist()\n",
        "XTrain = tracks_train.drop('playlist', axis=1).values.tolist()\n",
        "\n",
        "YTest = tracks_test['playlist'].tolist()\n",
        "XTest = tracks_test.drop('playlist', axis=1).values.tolist()\n",
        "\n",
        "tracks_train_values = tracks_train.values.tolist()"
      ],
      "metadata": {
        "id": "EPXIy28ZEDeo"
      },
      "execution_count": 343,
      "outputs": []
    },
    {
      "cell_type": "code",
      "source": [
        "# normalize datasets\n",
        "normalize_dataset(tracks_train_values, dataset_minmax(tracks_train_values))\n",
        "normalize_dataset(XTrain, dataset_minmax(XTrain))\n",
        "normalize_dataset(XTest, dataset_minmax(XTest))"
      ],
      "metadata": {
        "id": "de8zV8CoQoTX"
      },
      "execution_count": 350,
      "outputs": []
    },
    {
      "cell_type": "code",
      "source": [
        "pred_labels = []\n",
        "for row in XTrain:\n",
        "  pred_labels.append(predict_classification(tracks_train_values, row, 2))\n",
        "len(pred_labels)\n",
        "\n",
        "matrix = confusion_matrix(YTrain, pred_labels, labels=names)\n",
        "np.trace(matrix)/np.sum(matrix)"
      ],
      "metadata": {
        "colab": {
          "base_uri": "https://localhost:8080/"
        },
        "id": "LcQDjPICHDvR",
        "outputId": "52ce8cf9-781c-43df-9318-0c5292f99aaa"
      },
      "execution_count": 408,
      "outputs": [
        {
          "output_type": "execute_result",
          "data": {
            "text/plain": [
              "0.702819956616052"
            ]
          },
          "metadata": {},
          "execution_count": 408
        }
      ]
    },
    {
      "cell_type": "code",
      "source": [
        "from sklearn import svm, datasets\n",
        "from sklearn.model_selection import train_test_split\n",
        "from sklearn.metrics import ConfusionMatrixDisplay\n",
        "\n",
        "pred_labels = []\n",
        "for row in XTest:\n",
        "  pred_labels.append(predict_classification(tracks_train_values, row, 25))\n",
        "len(pred_labels)\n",
        "\n",
        "matrix = confusion_matrix(YTest, pred_labels, labels=names)\n",
        "matrix"
      ],
      "metadata": {
        "colab": {
          "base_uri": "https://localhost:8080/"
        },
        "id": "2sdcLmNxLO0y",
        "outputId": "c48fa2d3-f796-42a6-815a-0e07d89c35a1"
      },
      "execution_count": 405,
      "outputs": [
        {
          "output_type": "execute_result",
          "data": {
            "text/plain": [
              "array([[  2,  39,   0,   0,   4,   0,   0,   8],\n",
              "       [  1, 126,   0,   0,  10,   4,   0,  11],\n",
              "       [  2,  47,   0,   0,   3,   0,   0,   9],\n",
              "       [  0,  17,   0,   1,   3,   1,   0,   2],\n",
              "       [  2,  15,   0,   0,   9,   1,   0,   6],\n",
              "       [  3,  23,   0,   0,   7,   8,   0,   5],\n",
              "       [  2,   8,   0,   0,   8,   0,   0,   3],\n",
              "       [  0,  21,   0,   0,   5,   0,   0,  45]])"
            ]
          },
          "metadata": {},
          "execution_count": 405
        }
      ]
    },
    {
      "cell_type": "code",
      "source": [
        "np.trace(matrix)/np.sum(matrix)"
      ],
      "metadata": {
        "colab": {
          "base_uri": "https://localhost:8080/"
        },
        "id": "U1u_JmIvLpes",
        "outputId": "36930548-d8a1-4294-e94a-dbb6aef93641"
      },
      "execution_count": 407,
      "outputs": [
        {
          "output_type": "execute_result",
          "data": {
            "text/plain": [
              "0.41431670281995664"
            ]
          },
          "metadata": {},
          "execution_count": 407
        }
      ]
    },
    {
      "cell_type": "code",
      "source": [
        "names[-1] = 'tteokbokki'\n",
        "titles_options = [\n",
        "    (\"Confusion matrix, without normalization\", None),\n",
        "    (\"Normalized confusion matrix\", \"true\"),\n",
        "]\n",
        "for title, normalize in titles_options:\n",
        "  fig, ax = plt.subplots(figsize=(10,10))\n",
        "  disp = ConfusionMatrixDisplay.from_predictions(\n",
        "      YTest,\n",
        "      pred_labels,\n",
        "      labels=names,\n",
        "      xticks_rotation='vertical',\n",
        "      normalize=normalize,\n",
        "      cmap=plt.cm.Blues,\n",
        "      ax=ax)\n",
        "  disp.ax_.set_title(title)\n",
        "plt.show()"
      ],
      "metadata": {
        "colab": {
          "base_uri": "https://localhost:8080/",
          "height": 1000
        },
        "id": "dOWO7dJKN73B",
        "outputId": "ad3d9281-ec5f-4421-deba-b908b8a047c2"
      },
      "execution_count": 409,
      "outputs": [
        {
          "output_type": "display_data",
          "data": {
            "image/png": "[encoded data removed]",
            "text/plain": [
              "<Figure size 720x720 with 2 Axes>"
            ]
          },
          "metadata": {
            "needs_background": "light"
          }
        },
        {
          "output_type": "display_data",
          "data": {
            "image/png": "[encoded data removed]",
            "text/plain": [
              "<Figure size 720x720 with 2 Axes>"
            ]
          },
          "metadata": {
            "needs_background": "light"
          }
        }
      ]
    }
  ]
}