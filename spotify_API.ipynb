{
  "nbformat": 4,
  "nbformat_minor": 0,
  "metadata": {
    "colab": {
      "name": "spotify_API.ipynb",
      "provenance": [],
      "collapsed_sections": []
    },
    "kernelspec": {
      "name": "python3",
      "display_name": "Python 3"
    },
    "language_info": {
      "name": "python"
    }
  },
  "cells": [
    {
      "cell_type": "code",
      "execution_count": null,
      "metadata": {
        "id": "Ym8h3SmL5qTt"
      },
      "outputs": [],
      "source": [
        "# import libraries\n",
        "import requests\n",
        "import pandas as pd\n",
        "import time\n",
        "import math"
      ]
    },
    {
      "cell_type": "code",
      "source": [
        "# keys\n",
        "CLIENT_ID = '******'\n",
        "CLIENT_SECRET = '******'\n",
        "\n",
        "# API call procedures\n",
        "AUTH_URL = 'https://accounts.spotify.com/api/token'\n",
        "\n",
        "# POST\n",
        "auth_response = requests.post(AUTH_URL, {\n",
        "    'grant_type': 'client_credentials',\n",
        "    'client_id': CLIENT_ID,\n",
        "    'client_secret': CLIENT_SECRET,\n",
        "})\n",
        "\n",
        "# convert the response to JSON\n",
        "auth_response_data = auth_response.json()\n",
        "\n",
        "# save the access token\n",
        "access_token = auth_response_data['access_token']\n",
        "\n",
        "headers = {\n",
        "    'Authorization': 'Bearer {token}'.format(token=access_token)\n",
        "}\n",
        "\n",
        "# base URL of all Spotify API endpoints\n",
        "BASE_URL = 'https://api.spotify.com/v1/'"
      ],
      "metadata": {
        "id": "9At1NsRJ5-3T"
      },
      "execution_count": null,
      "outputs": []
    },
    {
      "cell_type": "code",
      "source": [
        "def convert_ms(duration_ms):  # change duration_ms to 'mm:ss' format\n",
        "  m = math.floor((duration_ms/1000)/60)  \n",
        "  s = math.floor((duration_ms/1000)%60)\n",
        "  if s<10:\n",
        "    s = '0'+str(s)\n",
        "  duration = str(m)+':'+str(s)\n",
        "  return duration\n",
        "\n",
        "\n",
        "def get_track_details(track_id):\n",
        "\n",
        "  # collect energy, loudness, tempo, and duration\n",
        "  r_track = requests.get(BASE_URL+'audio-features/'+track_id, headers=headers)\n",
        "  r_track = r_track.json()\n",
        "\n",
        "  energy = r_track['energy']\n",
        "  loudness = r_track['loudness']\n",
        "  tempo = r_track['tempo']\n",
        "  duration_ms = r_track['duration_ms']\n",
        "\n",
        "  return energy, loudness, tempo, convert_ms(duration_ms)"
      ],
      "metadata": {
        "id": "TSHDuIuw_KNN"
      },
      "execution_count": null,
      "outputs": []
    },
    {
      "cell_type": "code",
      "source": [
        "def get_tracks(df, j, playlist_id):\n",
        "\n",
        "  # get tracks from playlist\n",
        "  r2 = requests.get(BASE_URL+'playlists/'+playlist_id+'/tracks?offset='+str(j*100), headers=headers)\n",
        "  r2 = r2.json()\n",
        "\n",
        "  for track in r2['items']:\n",
        "    track_id = track['track']['id']\n",
        "    track_title = track['track']['name']\n",
        "    track_artists = track['track']['artists']\n",
        "    artist_list = []\n",
        "    for artist in track_artists:\n",
        "      artist_list.append(artist['name'])\n",
        "    track_artists = \", \".join(artist_list)\n",
        "    track_album = track['track']['album']['name']\n",
        "    track_release_date = track['track']['album']['release_date']\n",
        "    energy, loudness, tempo, duration = get_track_details(track_id)\n",
        "    df = df.append({'track_id':track_id,'track_title':track_title,\n",
        "                    'track_artists':track_artists,'track_album':track_album,\n",
        "                    'track_release_date':track_release_date,'energy':energy,\n",
        "                    'loudness':loudness,'tempo':tempo,\n",
        "                    'duration':duration}, ignore_index=True) \n",
        "\n",
        "  return df"
      ],
      "metadata": {
        "id": "tsF-WxwQAm6e"
      },
      "execution_count": null,
      "outputs": []
    },
    {
      "cell_type": "code",
      "source": [
        "# main\n",
        "r = requests.get(BASE_URL+'users/dedwur/playlists', headers=headers)  # 'dedwur' is my spotify username\n",
        "r = r.json()\n",
        "\n",
        "columns = ['track_id', 'track_title', 'track_artists', 'track_album', 'track_release_date', 'energy', 'loudness', 'tempo', 'duration']\n",
        "\n",
        "for i in range(0,len(playlists)):\n",
        "  df_all = []\n",
        "  playlist_name = r['items'][i]['name']\n",
        "  print('Grabbing tracks from \\''+playlist_name+'\\'...')\n",
        "  playlist_id = r['items'][i]['id']\n",
        "  for j in range(0,10):\n",
        "    df = pd.DataFrame(columns=columns)\n",
        "    while True:\n",
        "      try:\n",
        "        df = get_tracks(df, j, playlist_id)\n",
        "      except KeyError:\n",
        "        continue\n",
        "      break\n",
        "    df_all.append(df)\n",
        "  df_all = pd.concat(df_all, ignore_index=True)\n",
        "  df_all.to_csv(playlist_name+'.csv')\n",
        "  print(playlist_name+'.csv has been created.')"
      ],
      "metadata": {
        "id": "ET49SHwqxCIu",
        "colab": {
          "base_uri": "https://localhost:8080/"
        },
        "outputId": "6a0a61c7-ca72-41f1-b5ca-b02e986473ff"
      },
      "execution_count": null,
      "outputs": [
        {
          "output_type": "stream",
          "name": "stdout",
          "text": [
            "Grabbing tracks from 'K'...\n",
            "K.csv has been created.\n",
            "Grabbing tracks from '떡볶이'...\n",
            "떡볶이.csv has been created.\n",
            "Grabbing tracks from 'b'...\n",
            "b.csv has been created.\n",
            "Grabbing tracks from 'never forget'...\n",
            "never forget.csv has been created.\n",
            "Grabbing tracks from 'whatever simulation'...\n",
            "whatever simulation.csv has been created.\n",
            "Grabbing tracks from 'untitled'...\n",
            "untitled.csv has been created.\n",
            "Grabbing tracks from 'i feel like'...\n",
            "i feel like.csv has been created.\n",
            "Grabbing tracks from 'not edgy'...\n",
            "not edgy.csv has been created.\n",
            "Grabbing tracks from 'doggo'...\n",
            "doggo.csv has been created.\n"
          ]
        }
      ]
    }
  ]
}